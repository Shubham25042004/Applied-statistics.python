{
  "nbformat": 4,
  "nbformat_minor": 0,
  "metadata": {
    "colab": {
      "provenance": []
    },
    "kernelspec": {
      "name": "python3",
      "display_name": "Python 3"
    },
    "language_info": {
      "name": "python"
    }
  },
  "cells": [
    {
      "cell_type": "code",
      "execution_count": 2,
      "metadata": {
        "colab": {
          "base_uri": "https://localhost:8080/"
        },
        "id": "0bBXc6FE7N0p",
        "outputId": "25646765-84a9-46b5-e69a-4efaf916b640"
      },
      "outputs": [
        {
          "output_type": "stream",
          "name": "stdout",
          "text": [
            "New created array:3 6 9 12 "
          ]
        }
      ],
      "source": [
        "import array\n",
        "arr=array.array('B',[3,6,9,12,15,18,21])\n",
        "print(\"New created array:\",end=\"\")\n",
        "for B in range(0,4):\n",
        "   print(arr[B],end=\" \")"
      ]
    },
    {
      "cell_type": "code",
      "source": [
        "import pandas as pd\n",
        "dict={'name':[\"Shubham\",\"Sam\",\"Bablu\",\"Raj\"],\n",
        "'age':[\"21\",\"18\",\"16\",\"20\"]}\n",
        "info=pd.DataFrame(dict,index=[True,True,False,True])\n",
        "print(info)\n"
      ],
      "metadata": {
        "colab": {
          "base_uri": "https://localhost:8080/"
        },
        "id": "9JXdtUCMCTee",
        "outputId": "e12ea64f-74f8-43d2-b114-c56cead26e22"
      },
      "execution_count": 3,
      "outputs": [
        {
          "output_type": "stream",
          "name": "stdout",
          "text": [
            "          name age\n",
            "True   Shubham  21\n",
            "True       Sam  18\n",
            "False    Bablu  16\n",
            "True       Raj  20\n"
          ]
        }
      ]
    },
    {
      "cell_type": "code",
      "source": [
        "print(info.loc[False])"
      ],
      "metadata": {
        "id": "dPo1JPSHDkPy",
        "colab": {
          "base_uri": "https://localhost:8080/"
        },
        "outputId": "1b349bf2-feef-4a41-e04c-299d6d245229"
      },
      "execution_count": 4,
      "outputs": [
        {
          "output_type": "stream",
          "name": "stdout",
          "text": [
            "name    Bablu\n",
            "age        16\n",
            "Name: False, dtype: object\n"
          ]
        }
      ]
    },
    {
      "cell_type": "code",
      "source": [
        "import numpy as np\n",
        "arr= np.arange(16)\n",
        "print(\"The original array is:\",arr)\n",
        "#shape of the array is 2 rows and 8 column.\n",
        "arr= np.arange(32).reshape(4,8)\n",
        "print(\"\\nreshapedarray\\n:\",arr)\n",
        "#shape with array of 4 rows and columns.\n",
        "arr= np.arange(32).reshape(8,4)\n",
        "print(\"\\nreshapedarray\\n:\",arr)\n",
        "\n"
      ],
      "metadata": {
        "colab": {
          "base_uri": "https://localhost:8080/"
        },
        "id": "iazUZ5vHitGE",
        "outputId": "692abcdc-b7c6-403e-9845-7d5399080d6b"
      },
      "execution_count": 7,
      "outputs": [
        {
          "output_type": "stream",
          "name": "stdout",
          "text": [
            "The original array is: [ 0  1  2  3  4  5  6  7  8  9 10 11 12 13 14 15]\n",
            "\n",
            "reshapedarray\n",
            ": [[ 0  1  2  3  4  5  6  7]\n",
            " [ 8  9 10 11 12 13 14 15]\n",
            " [16 17 18 19 20 21 22 23]\n",
            " [24 25 26 27 28 29 30 31]]\n",
            "\n",
            "reshapedarray\n",
            ": [[ 0  1  2  3]\n",
            " [ 4  5  6  7]\n",
            " [ 8  9 10 11]\n",
            " [12 13 14 15]\n",
            " [16 17 18 19]\n",
            " [20 21 22 23]\n",
            " [24 25 26 27]\n",
            " [28 29 30 31]]\n"
          ]
        }
      ]
    }
  ]
}